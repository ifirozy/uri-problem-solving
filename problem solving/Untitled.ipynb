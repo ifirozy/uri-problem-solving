{
 "cells": [
  {
   "cell_type": "code",
   "execution_count": 1,
   "metadata": {},
   "outputs": [
    {
     "name": "stdout",
     "output_type": "stream",
     "text": [
      "45 67 89\n",
      "TRIANGULO: 2002.500\n",
      "CIRCULO: 24884.534\n",
      "TRAPEZIO: 1393533.926\n",
      "QUADRADO: 4489.000\n",
      "RETANGULO: 3015.000\n"
     ]
    }
   ],
   "source": [
    "v= input().split(\" \")\n",
    "\n",
    "a, b, c = v\n",
    "pi = 3.14159\n",
    "\n",
    "t= (float(a) * float(c))/2\n",
    "c= pi * (float(c)* float(c))\n",
    "tr = float(c) *(float(a) + float(b)) / 2\n",
    "q = float(b) * float(b)\n",
    "r = float(a) * float(b)\n",
    "\n",
    "\n",
    "print(\"TRIANGULO: %0.3f\\nCIRCULO: %0.3f\\nTRAPEZIO: %0.3f\\nQUADRADO: %0.3f\\nRETANGULO: %0.3f\" % (t, c, tr, q, r))"
   ]
  },
  {
   "cell_type": "code",
   "execution_count": null,
   "metadata": {},
   "outputs": [],
   "source": []
  }
 ],
 "metadata": {
  "kernelspec": {
   "display_name": "Python 3",
   "language": "python",
   "name": "python3"
  },
  "language_info": {
   "codemirror_mode": {
    "name": "ipython",
    "version": 3
   },
   "file_extension": ".py",
   "mimetype": "text/x-python",
   "name": "python",
   "nbconvert_exporter": "python",
   "pygments_lexer": "ipython3",
   "version": "3.8.5"
  }
 },
 "nbformat": 4,
 "nbformat_minor": 4
}
