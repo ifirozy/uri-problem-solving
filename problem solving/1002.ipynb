{
 "cells": [
  {
   "cell_type": "code",
   "execution_count": 4,
   "metadata": {},
   "outputs": [
    {
     "name": "stdout",
     "output_type": "stream",
     "text": [
      "5.00\n",
      "A=78.539750\n"
     ]
    }
   ],
   "source": [
    "n = 3.14159\n",
    "R=float(input())\n",
    "\n",
    "A= n*R*R\n",
    "\n",
    "print(\"A=%f\"%A)"
   ]
  },
  {
   "cell_type": "code",
   "execution_count": null,
   "metadata": {},
   "outputs": [],
   "source": [
    "r = float(input())\n",
    "pi = 3.14159\n",
    "a = pi * (pow(r,2))\n",
    "print(\"A=%.4f\"% a"
   ]
  }
 ],
 "metadata": {
  "kernelspec": {
   "display_name": "Python 3",
   "language": "python",
   "name": "python3"
  },
  "language_info": {
   "codemirror_mode": {
    "name": "ipython",
    "version": 3
   },
   "file_extension": ".py",
   "mimetype": "text/x-python",
   "name": "python",
   "nbconvert_exporter": "python",
   "pygments_lexer": "ipython3",
   "version": "3.8.5"
  }
 },
 "nbformat": 4,
 "nbformat_minor": 4
}
